{
  "cells": [
    {
      "cell_type": "code",
      "execution_count": null,
      "metadata": {
        "id": "ZzzKLDpI283L"
      },
      "outputs": [],
      "source": [
        "import numpy as np\n",
        "import pandas as pd\n",
        "import matplotlib.pyplot as plt\n",
        "from sklearn.model_selection import train_test_split\n",
        "import torch\n",
        "from torch.utils.data import random_split\n",
        "from torch import nn\n",
        "from torch.utils.data.dataloader import DataLoader\n",
        "import torch.nn.functional as F"
      ]
    },
    {
      "cell_type": "code",
      "execution_count": null,
      "metadata": {
        "id": "Owv1YQih3sjc"
      },
      "outputs": [],
      "source": [
        "mnist = pd.read_csv(\"mnist_train.csv\")"
      ]
    },
    {
      "cell_type": "code",
      "execution_count": null,
      "metadata": {
        "colab": {
          "base_uri": "https://localhost:8080/",
          "height": 423
        },
        "id": "mkY6Omvr3smo",
        "outputId": "26bbf2be-28f2-4bd2-96fb-24aeb90d3496"
      },
      "outputs": [
        {
          "output_type": "execute_result",
          "data": {
            "text/plain": [
              "       label  1x1  1x2  1x3  1x4  1x5  1x6  1x7  1x8  1x9  ...  28x19  28x20  \\\n",
              "0          5    0    0    0    0    0    0    0    0    0  ...      0      0   \n",
              "1          0    0    0    0    0    0    0    0    0    0  ...      0      0   \n",
              "2          4    0    0    0    0    0    0    0    0    0  ...      0      0   \n",
              "3          1    0    0    0    0    0    0    0    0    0  ...      0      0   \n",
              "4          9    0    0    0    0    0    0    0    0    0  ...      0      0   \n",
              "...      ...  ...  ...  ...  ...  ...  ...  ...  ...  ...  ...    ...    ...   \n",
              "59995      8    0    0    0    0    0    0    0    0    0  ...      0      0   \n",
              "59996      3    0    0    0    0    0    0    0    0    0  ...      0      0   \n",
              "59997      5    0    0    0    0    0    0    0    0    0  ...      0      0   \n",
              "59998      6    0    0    0    0    0    0    0    0    0  ...      0      0   \n",
              "59999      8    0    0    0    0    0    0    0    0    0  ...      0      0   \n",
              "\n",
              "       28x21  28x22  28x23  28x24  28x25  28x26  28x27  28x28  \n",
              "0          0      0      0      0      0      0      0      0  \n",
              "1          0      0      0      0      0      0      0      0  \n",
              "2          0      0      0      0      0      0      0      0  \n",
              "3          0      0      0      0      0      0      0      0  \n",
              "4          0      0      0      0      0      0      0      0  \n",
              "...      ...    ...    ...    ...    ...    ...    ...    ...  \n",
              "59995      0      0      0      0      0      0      0      0  \n",
              "59996      0      0      0      0      0      0      0      0  \n",
              "59997      0      0      0      0      0      0      0      0  \n",
              "59998      0      0      0      0      0      0      0      0  \n",
              "59999      0      0      0      0      0      0      0      0  \n",
              "\n",
              "[60000 rows x 785 columns]"
            ],
            "text/html": [
              "\n",
              "  <div id=\"df-450b8076-004b-462b-962d-a5bbbb435e65\">\n",
              "    <div class=\"colab-df-container\">\n",
              "      <div>\n",
              "<style scoped>\n",
              "    .dataframe tbody tr th:only-of-type {\n",
              "        vertical-align: middle;\n",
              "    }\n",
              "\n",
              "    .dataframe tbody tr th {\n",
              "        vertical-align: top;\n",
              "    }\n",
              "\n",
              "    .dataframe thead th {\n",
              "        text-align: right;\n",
              "    }\n",
              "</style>\n",
              "<table border=\"1\" class=\"dataframe\">\n",
              "  <thead>\n",
              "    <tr style=\"text-align: right;\">\n",
              "      <th></th>\n",
              "      <th>label</th>\n",
              "      <th>1x1</th>\n",
              "      <th>1x2</th>\n",
              "      <th>1x3</th>\n",
              "      <th>1x4</th>\n",
              "      <th>1x5</th>\n",
              "      <th>1x6</th>\n",
              "      <th>1x7</th>\n",
              "      <th>1x8</th>\n",
              "      <th>1x9</th>\n",
              "      <th>...</th>\n",
              "      <th>28x19</th>\n",
              "      <th>28x20</th>\n",
              "      <th>28x21</th>\n",
              "      <th>28x22</th>\n",
              "      <th>28x23</th>\n",
              "      <th>28x24</th>\n",
              "      <th>28x25</th>\n",
              "      <th>28x26</th>\n",
              "      <th>28x27</th>\n",
              "      <th>28x28</th>\n",
              "    </tr>\n",
              "  </thead>\n",
              "  <tbody>\n",
              "    <tr>\n",
              "      <th>0</th>\n",
              "      <td>5</td>\n",
              "      <td>0</td>\n",
              "      <td>0</td>\n",
              "      <td>0</td>\n",
              "      <td>0</td>\n",
              "      <td>0</td>\n",
              "      <td>0</td>\n",
              "      <td>0</td>\n",
              "      <td>0</td>\n",
              "      <td>0</td>\n",
              "      <td>...</td>\n",
              "      <td>0</td>\n",
              "      <td>0</td>\n",
              "      <td>0</td>\n",
              "      <td>0</td>\n",
              "      <td>0</td>\n",
              "      <td>0</td>\n",
              "      <td>0</td>\n",
              "      <td>0</td>\n",
              "      <td>0</td>\n",
              "      <td>0</td>\n",
              "    </tr>\n",
              "    <tr>\n",
              "      <th>1</th>\n",
              "      <td>0</td>\n",
              "      <td>0</td>\n",
              "      <td>0</td>\n",
              "      <td>0</td>\n",
              "      <td>0</td>\n",
              "      <td>0</td>\n",
              "      <td>0</td>\n",
              "      <td>0</td>\n",
              "      <td>0</td>\n",
              "      <td>0</td>\n",
              "      <td>...</td>\n",
              "      <td>0</td>\n",
              "      <td>0</td>\n",
              "      <td>0</td>\n",
              "      <td>0</td>\n",
              "      <td>0</td>\n",
              "      <td>0</td>\n",
              "      <td>0</td>\n",
              "      <td>0</td>\n",
              "      <td>0</td>\n",
              "      <td>0</td>\n",
              "    </tr>\n",
              "    <tr>\n",
              "      <th>2</th>\n",
              "      <td>4</td>\n",
              "      <td>0</td>\n",
              "      <td>0</td>\n",
              "      <td>0</td>\n",
              "      <td>0</td>\n",
              "      <td>0</td>\n",
              "      <td>0</td>\n",
              "      <td>0</td>\n",
              "      <td>0</td>\n",
              "      <td>0</td>\n",
              "      <td>...</td>\n",
              "      <td>0</td>\n",
              "      <td>0</td>\n",
              "      <td>0</td>\n",
              "      <td>0</td>\n",
              "      <td>0</td>\n",
              "      <td>0</td>\n",
              "      <td>0</td>\n",
              "      <td>0</td>\n",
              "      <td>0</td>\n",
              "      <td>0</td>\n",
              "    </tr>\n",
              "    <tr>\n",
              "      <th>3</th>\n",
              "      <td>1</td>\n",
              "      <td>0</td>\n",
              "      <td>0</td>\n",
              "      <td>0</td>\n",
              "      <td>0</td>\n",
              "      <td>0</td>\n",
              "      <td>0</td>\n",
              "      <td>0</td>\n",
              "      <td>0</td>\n",
              "      <td>0</td>\n",
              "      <td>...</td>\n",
              "      <td>0</td>\n",
              "      <td>0</td>\n",
              "      <td>0</td>\n",
              "      <td>0</td>\n",
              "      <td>0</td>\n",
              "      <td>0</td>\n",
              "      <td>0</td>\n",
              "      <td>0</td>\n",
              "      <td>0</td>\n",
              "      <td>0</td>\n",
              "    </tr>\n",
              "    <tr>\n",
              "      <th>4</th>\n",
              "      <td>9</td>\n",
              "      <td>0</td>\n",
              "      <td>0</td>\n",
              "      <td>0</td>\n",
              "      <td>0</td>\n",
              "      <td>0</td>\n",
              "      <td>0</td>\n",
              "      <td>0</td>\n",
              "      <td>0</td>\n",
              "      <td>0</td>\n",
              "      <td>...</td>\n",
              "      <td>0</td>\n",
              "      <td>0</td>\n",
              "      <td>0</td>\n",
              "      <td>0</td>\n",
              "      <td>0</td>\n",
              "      <td>0</td>\n",
              "      <td>0</td>\n",
              "      <td>0</td>\n",
              "      <td>0</td>\n",
              "      <td>0</td>\n",
              "    </tr>\n",
              "    <tr>\n",
              "      <th>...</th>\n",
              "      <td>...</td>\n",
              "      <td>...</td>\n",
              "      <td>...</td>\n",
              "      <td>...</td>\n",
              "      <td>...</td>\n",
              "      <td>...</td>\n",
              "      <td>...</td>\n",
              "      <td>...</td>\n",
              "      <td>...</td>\n",
              "      <td>...</td>\n",
              "      <td>...</td>\n",
              "      <td>...</td>\n",
              "      <td>...</td>\n",
              "      <td>...</td>\n",
              "      <td>...</td>\n",
              "      <td>...</td>\n",
              "      <td>...</td>\n",
              "      <td>...</td>\n",
              "      <td>...</td>\n",
              "      <td>...</td>\n",
              "      <td>...</td>\n",
              "    </tr>\n",
              "    <tr>\n",
              "      <th>59995</th>\n",
              "      <td>8</td>\n",
              "      <td>0</td>\n",
              "      <td>0</td>\n",
              "      <td>0</td>\n",
              "      <td>0</td>\n",
              "      <td>0</td>\n",
              "      <td>0</td>\n",
              "      <td>0</td>\n",
              "      <td>0</td>\n",
              "      <td>0</td>\n",
              "      <td>...</td>\n",
              "      <td>0</td>\n",
              "      <td>0</td>\n",
              "      <td>0</td>\n",
              "      <td>0</td>\n",
              "      <td>0</td>\n",
              "      <td>0</td>\n",
              "      <td>0</td>\n",
              "      <td>0</td>\n",
              "      <td>0</td>\n",
              "      <td>0</td>\n",
              "    </tr>\n",
              "    <tr>\n",
              "      <th>59996</th>\n",
              "      <td>3</td>\n",
              "      <td>0</td>\n",
              "      <td>0</td>\n",
              "      <td>0</td>\n",
              "      <td>0</td>\n",
              "      <td>0</td>\n",
              "      <td>0</td>\n",
              "      <td>0</td>\n",
              "      <td>0</td>\n",
              "      <td>0</td>\n",
              "      <td>...</td>\n",
              "      <td>0</td>\n",
              "      <td>0</td>\n",
              "      <td>0</td>\n",
              "      <td>0</td>\n",
              "      <td>0</td>\n",
              "      <td>0</td>\n",
              "      <td>0</td>\n",
              "      <td>0</td>\n",
              "      <td>0</td>\n",
              "      <td>0</td>\n",
              "    </tr>\n",
              "    <tr>\n",
              "      <th>59997</th>\n",
              "      <td>5</td>\n",
              "      <td>0</td>\n",
              "      <td>0</td>\n",
              "      <td>0</td>\n",
              "      <td>0</td>\n",
              "      <td>0</td>\n",
              "      <td>0</td>\n",
              "      <td>0</td>\n",
              "      <td>0</td>\n",
              "      <td>0</td>\n",
              "      <td>...</td>\n",
              "      <td>0</td>\n",
              "      <td>0</td>\n",
              "      <td>0</td>\n",
              "      <td>0</td>\n",
              "      <td>0</td>\n",
              "      <td>0</td>\n",
              "      <td>0</td>\n",
              "      <td>0</td>\n",
              "      <td>0</td>\n",
              "      <td>0</td>\n",
              "    </tr>\n",
              "    <tr>\n",
              "      <th>59998</th>\n",
              "      <td>6</td>\n",
              "      <td>0</td>\n",
              "      <td>0</td>\n",
              "      <td>0</td>\n",
              "      <td>0</td>\n",
              "      <td>0</td>\n",
              "      <td>0</td>\n",
              "      <td>0</td>\n",
              "      <td>0</td>\n",
              "      <td>0</td>\n",
              "      <td>...</td>\n",
              "      <td>0</td>\n",
              "      <td>0</td>\n",
              "      <td>0</td>\n",
              "      <td>0</td>\n",
              "      <td>0</td>\n",
              "      <td>0</td>\n",
              "      <td>0</td>\n",
              "      <td>0</td>\n",
              "      <td>0</td>\n",
              "      <td>0</td>\n",
              "    </tr>\n",
              "    <tr>\n",
              "      <th>59999</th>\n",
              "      <td>8</td>\n",
              "      <td>0</td>\n",
              "      <td>0</td>\n",
              "      <td>0</td>\n",
              "      <td>0</td>\n",
              "      <td>0</td>\n",
              "      <td>0</td>\n",
              "      <td>0</td>\n",
              "      <td>0</td>\n",
              "      <td>0</td>\n",
              "      <td>...</td>\n",
              "      <td>0</td>\n",
              "      <td>0</td>\n",
              "      <td>0</td>\n",
              "      <td>0</td>\n",
              "      <td>0</td>\n",
              "      <td>0</td>\n",
              "      <td>0</td>\n",
              "      <td>0</td>\n",
              "      <td>0</td>\n",
              "      <td>0</td>\n",
              "    </tr>\n",
              "  </tbody>\n",
              "</table>\n",
              "<p>60000 rows × 785 columns</p>\n",
              "</div>\n",
              "      <button class=\"colab-df-convert\" onclick=\"convertToInteractive('df-450b8076-004b-462b-962d-a5bbbb435e65')\"\n",
              "              title=\"Convert this dataframe to an interactive table.\"\n",
              "              style=\"display:none;\">\n",
              "        \n",
              "  <svg xmlns=\"http://www.w3.org/2000/svg\" height=\"24px\"viewBox=\"0 0 24 24\"\n",
              "       width=\"24px\">\n",
              "    <path d=\"M0 0h24v24H0V0z\" fill=\"none\"/>\n",
              "    <path d=\"M18.56 5.44l.94 2.06.94-2.06 2.06-.94-2.06-.94-.94-2.06-.94 2.06-2.06.94zm-11 1L8.5 8.5l.94-2.06 2.06-.94-2.06-.94L8.5 2.5l-.94 2.06-2.06.94zm10 10l.94 2.06.94-2.06 2.06-.94-2.06-.94-.94-2.06-.94 2.06-2.06.94z\"/><path d=\"M17.41 7.96l-1.37-1.37c-.4-.4-.92-.59-1.43-.59-.52 0-1.04.2-1.43.59L10.3 9.45l-7.72 7.72c-.78.78-.78 2.05 0 2.83L4 21.41c.39.39.9.59 1.41.59.51 0 1.02-.2 1.41-.59l7.78-7.78 2.81-2.81c.8-.78.8-2.07 0-2.86zM5.41 20L4 18.59l7.72-7.72 1.47 1.35L5.41 20z\"/>\n",
              "  </svg>\n",
              "      </button>\n",
              "      \n",
              "  <style>\n",
              "    .colab-df-container {\n",
              "      display:flex;\n",
              "      flex-wrap:wrap;\n",
              "      gap: 12px;\n",
              "    }\n",
              "\n",
              "    .colab-df-convert {\n",
              "      background-color: #E8F0FE;\n",
              "      border: none;\n",
              "      border-radius: 50%;\n",
              "      cursor: pointer;\n",
              "      display: none;\n",
              "      fill: #1967D2;\n",
              "      height: 32px;\n",
              "      padding: 0 0 0 0;\n",
              "      width: 32px;\n",
              "    }\n",
              "\n",
              "    .colab-df-convert:hover {\n",
              "      background-color: #E2EBFA;\n",
              "      box-shadow: 0px 1px 2px rgba(60, 64, 67, 0.3), 0px 1px 3px 1px rgba(60, 64, 67, 0.15);\n",
              "      fill: #174EA6;\n",
              "    }\n",
              "\n",
              "    [theme=dark] .colab-df-convert {\n",
              "      background-color: #3B4455;\n",
              "      fill: #D2E3FC;\n",
              "    }\n",
              "\n",
              "    [theme=dark] .colab-df-convert:hover {\n",
              "      background-color: #434B5C;\n",
              "      box-shadow: 0px 1px 3px 1px rgba(0, 0, 0, 0.15);\n",
              "      filter: drop-shadow(0px 1px 2px rgba(0, 0, 0, 0.3));\n",
              "      fill: #FFFFFF;\n",
              "    }\n",
              "  </style>\n",
              "\n",
              "      <script>\n",
              "        const buttonEl =\n",
              "          document.querySelector('#df-450b8076-004b-462b-962d-a5bbbb435e65 button.colab-df-convert');\n",
              "        buttonEl.style.display =\n",
              "          google.colab.kernel.accessAllowed ? 'block' : 'none';\n",
              "\n",
              "        async function convertToInteractive(key) {\n",
              "          const element = document.querySelector('#df-450b8076-004b-462b-962d-a5bbbb435e65');\n",
              "          const dataTable =\n",
              "            await google.colab.kernel.invokeFunction('convertToInteractive',\n",
              "                                                     [key], {});\n",
              "          if (!dataTable) return;\n",
              "\n",
              "          const docLinkHtml = 'Like what you see? Visit the ' +\n",
              "            '<a target=\"_blank\" href=https://colab.research.google.com/notebooks/data_table.ipynb>data table notebook</a>'\n",
              "            + ' to learn more about interactive tables.';\n",
              "          element.innerHTML = '';\n",
              "          dataTable['output_type'] = 'display_data';\n",
              "          await google.colab.output.renderOutput(dataTable, element);\n",
              "          const docLink = document.createElement('div');\n",
              "          docLink.innerHTML = docLinkHtml;\n",
              "          element.appendChild(docLink);\n",
              "        }\n",
              "      </script>\n",
              "    </div>\n",
              "  </div>\n",
              "  "
            ]
          },
          "metadata": {},
          "execution_count": 165
        }
      ],
      "source": [
        "mnist"
      ]
    },
    {
      "cell_type": "code",
      "execution_count": null,
      "metadata": {
        "id": "BvUdljtq42cg"
      },
      "outputs": [],
      "source": [
        "# Split the dataframe into features and labels\n",
        "X = mnist.iloc[:, 1:].values\n",
        "y = mnist.iloc[:, 0].values"
      ]
    },
    {
      "cell_type": "code",
      "execution_count": null,
      "metadata": {
        "id": "GSZiMZLC5Cyf"
      },
      "outputs": [],
      "source": [
        "X = X.reshape(-1, 28, 28) # Reshape the features to the original MNIST image dimensions"
      ]
    },
    {
      "cell_type": "code",
      "execution_count": null,
      "metadata": {
        "id": "dBB-cyVA5G8O"
      },
      "outputs": [],
      "source": [
        "X = X / 255.0 # Normalize the pixel values to the range [0, 1]"
      ]
    },
    {
      "cell_type": "code",
      "execution_count": null,
      "metadata": {
        "id": "6HUo2i8D5NPl"
      },
      "outputs": [],
      "source": [
        "X_train, X_test, y_train, y_test = train_test_split(X, y, test_size=0.2, random_state=42)"
      ]
    },
    {
      "cell_type": "code",
      "execution_count": null,
      "metadata": {
        "colab": {
          "base_uri": "https://localhost:8080/"
        },
        "id": "yTSbKw8Mw-hs",
        "outputId": "f37242ef-1656-4a63-ce4d-314e2ddc39df"
      },
      "outputs": [
        {
          "output_type": "execute_result",
          "data": {
            "text/plain": [
              "(60000, 785)"
            ]
          },
          "metadata": {},
          "execution_count": 170
        }
      ],
      "source": [
        "mnist.shape"
      ]
    },
    {
      "cell_type": "code",
      "execution_count": null,
      "metadata": {
        "id": "OvOEEmOt0eBw",
        "colab": {
          "base_uri": "https://localhost:8080/"
        },
        "outputId": "262f3ff1-5e2f-494f-f350-9880738b9689"
      },
      "outputs": [
        {
          "output_type": "execute_result",
          "data": {
            "text/plain": [
              "array([[[0., 0., 0., ..., 0., 0., 0.],\n",
              "        [0., 0., 0., ..., 0., 0., 0.],\n",
              "        [0., 0., 0., ..., 0., 0., 0.],\n",
              "        ...,\n",
              "        [0., 0., 0., ..., 0., 0., 0.],\n",
              "        [0., 0., 0., ..., 0., 0., 0.],\n",
              "        [0., 0., 0., ..., 0., 0., 0.]],\n",
              "\n",
              "       [[0., 0., 0., ..., 0., 0., 0.],\n",
              "        [0., 0., 0., ..., 0., 0., 0.],\n",
              "        [0., 0., 0., ..., 0., 0., 0.],\n",
              "        ...,\n",
              "        [0., 0., 0., ..., 0., 0., 0.],\n",
              "        [0., 0., 0., ..., 0., 0., 0.],\n",
              "        [0., 0., 0., ..., 0., 0., 0.]],\n",
              "\n",
              "       [[0., 0., 0., ..., 0., 0., 0.],\n",
              "        [0., 0., 0., ..., 0., 0., 0.],\n",
              "        [0., 0., 0., ..., 0., 0., 0.],\n",
              "        ...,\n",
              "        [0., 0., 0., ..., 0., 0., 0.],\n",
              "        [0., 0., 0., ..., 0., 0., 0.],\n",
              "        [0., 0., 0., ..., 0., 0., 0.]],\n",
              "\n",
              "       ...,\n",
              "\n",
              "       [[0., 0., 0., ..., 0., 0., 0.],\n",
              "        [0., 0., 0., ..., 0., 0., 0.],\n",
              "        [0., 0., 0., ..., 0., 0., 0.],\n",
              "        ...,\n",
              "        [0., 0., 0., ..., 0., 0., 0.],\n",
              "        [0., 0., 0., ..., 0., 0., 0.],\n",
              "        [0., 0., 0., ..., 0., 0., 0.]],\n",
              "\n",
              "       [[0., 0., 0., ..., 0., 0., 0.],\n",
              "        [0., 0., 0., ..., 0., 0., 0.],\n",
              "        [0., 0., 0., ..., 0., 0., 0.],\n",
              "        ...,\n",
              "        [0., 0., 0., ..., 0., 0., 0.],\n",
              "        [0., 0., 0., ..., 0., 0., 0.],\n",
              "        [0., 0., 0., ..., 0., 0., 0.]],\n",
              "\n",
              "       [[0., 0., 0., ..., 0., 0., 0.],\n",
              "        [0., 0., 0., ..., 0., 0., 0.],\n",
              "        [0., 0., 0., ..., 0., 0., 0.],\n",
              "        ...,\n",
              "        [0., 0., 0., ..., 0., 0., 0.],\n",
              "        [0., 0., 0., ..., 0., 0., 0.],\n",
              "        [0., 0., 0., ..., 0., 0., 0.]]])"
            ]
          },
          "metadata": {},
          "execution_count": 171
        }
      ],
      "source": [
        "X_train"
      ]
    },
    {
      "cell_type": "code",
      "execution_count": null,
      "metadata": {
        "colab": {
          "base_uri": "https://localhost:8080/"
        },
        "id": "FMExxeWi616g",
        "outputId": "b3f20af0-75c4-4781-ff7c-f39d24545e72"
      },
      "outputs": [
        {
          "output_type": "execute_result",
          "data": {
            "text/plain": [
              "(48000, 28, 28)"
            ]
          },
          "metadata": {},
          "execution_count": 172
        }
      ],
      "source": [
        "X_train.shape"
      ]
    },
    {
      "cell_type": "code",
      "execution_count": null,
      "metadata": {
        "colab": {
          "base_uri": "https://localhost:8080/"
        },
        "id": "hKmT_YLx0eJM",
        "outputId": "44150fbd-0922-4f8f-e5ed-176697d76729"
      },
      "outputs": [
        {
          "output_type": "execute_result",
          "data": {
            "text/plain": [
              "array([5, 0, 1, ..., 0, 0, 4])"
            ]
          },
          "metadata": {},
          "execution_count": 173
        }
      ],
      "source": [
        "y_train"
      ]
    },
    {
      "cell_type": "code",
      "execution_count": null,
      "metadata": {
        "colab": {
          "base_uri": "https://localhost:8080/"
        },
        "id": "IW_9BK3I67m5",
        "outputId": "cfe5b68e-3c80-4eaa-e17f-04145c40dad3"
      },
      "outputs": [
        {
          "output_type": "execute_result",
          "data": {
            "text/plain": [
              "(48000,)"
            ]
          },
          "metadata": {},
          "execution_count": 174
        }
      ],
      "source": [
        "y_train.shape"
      ]
    },
    {
      "cell_type": "code",
      "execution_count": null,
      "metadata": {
        "colab": {
          "base_uri": "https://localhost:8080/"
        },
        "id": "f27udyjT7ze8",
        "outputId": "5653e494-2079-45ba-8461-28041133bf02"
      },
      "outputs": [
        {
          "output_type": "execute_result",
          "data": {
            "text/plain": [
              "(12000, 28, 28)"
            ]
          },
          "metadata": {},
          "execution_count": 175
        }
      ],
      "source": [
        "X_test.shape"
      ]
    },
    {
      "cell_type": "code",
      "execution_count": null,
      "metadata": {
        "colab": {
          "base_uri": "https://localhost:8080/"
        },
        "id": "4_AGkFTs75qP",
        "outputId": "0d98c7cb-e852-4a2c-b7b1-258a2eb610ae"
      },
      "outputs": [
        {
          "output_type": "execute_result",
          "data": {
            "text/plain": [
              "array([7, 3, 8, ..., 9, 7, 2])"
            ]
          },
          "metadata": {},
          "execution_count": 176
        }
      ],
      "source": [
        "y_test"
      ]
    },
    {
      "cell_type": "code",
      "execution_count": null,
      "metadata": {
        "colab": {
          "base_uri": "https://localhost:8080/"
        },
        "id": "5mTm9wHO9jxe",
        "outputId": "45ff015e-c201-437d-be84-d6b7cb0593b5"
      },
      "outputs": [
        {
          "output_type": "execute_result",
          "data": {
            "text/plain": [
              "(12000,)"
            ]
          },
          "metadata": {},
          "execution_count": 177
        }
      ],
      "source": [
        "y_test.shape"
      ]
    },
    {
      "cell_type": "code",
      "execution_count": null,
      "metadata": {
        "id": "HkZEm1WTMxlk"
      },
      "outputs": [],
      "source": [
        "X_train = torch.tensor(X_train, dtype=torch.float32)\n",
        "y_train = torch.tensor(y_train, dtype=torch.int64)\n",
        "X_test = torch.tensor(X_test, dtype=torch.float32)\n",
        "y_test = torch.tensor(y_test, dtype=torch.int64)\n",
        "train_dataset = torch.utils.data.TensorDataset(X_train, y_train)\n",
        "test_dataset = torch.utils.data.TensorDataset(X_test, y_test)"
      ]
    },
    {
      "cell_type": "code",
      "execution_count": null,
      "metadata": {
        "colab": {
          "base_uri": "https://localhost:8080/"
        },
        "id": "DbbWw3fZaImi",
        "outputId": "b614d548-7d44-4d73-d01b-92ed8ae42617"
      },
      "outputs": [
        {
          "output_type": "execute_result",
          "data": {
            "text/plain": [
              "torch.Size([48000, 28, 28])"
            ]
          },
          "metadata": {},
          "execution_count": 179
        }
      ],
      "source": [
        "X_train.shape"
      ]
    },
    {
      "cell_type": "code",
      "execution_count": null,
      "metadata": {
        "colab": {
          "base_uri": "https://localhost:8080/",
          "height": 448
        },
        "id": "eApZMG-xNSOR",
        "outputId": "2cbc3b43-6a4d-475a-c2c7-5f28d1af4a4b"
      },
      "outputs": [
        {
          "output_type": "execute_result",
          "data": {
            "text/plain": [
              "<matplotlib.image.AxesImage at 0x7f4eb79fa5c0>"
            ]
          },
          "metadata": {},
          "execution_count": 180
        },
        {
          "output_type": "display_data",
          "data": {
            "text/plain": [
              "<Figure size 640x480 with 1 Axes>"
            ],
            "image/png": "[encoded data removed]"
          },
          "metadata": {}
        }
      ],
      "source": [
        "plt.imshow(X_train[3])"
      ]
    },
    {
      "cell_type": "code",
      "execution_count": null,
      "metadata": {
        "id": "XJn90Qd3Rsym"
      },
      "outputs": [],
      "source": [
        "train_loader = DataLoader(train_dataset, batch_size=100, shuffle=True)\n",
        "test_loader = DataLoader(test_dataset, batch_size=500, shuffle=False)\n"
      ]
    },
    {
      "cell_type": "code",
      "source": [
        "class MyNeuralNetwork(nn.Module):\n",
        "    def __init__(self, input_size=784, output_size=10, layers=[120,84]):\n",
        "        super(MyNeuralNetwork, self).__init__()\n",
        "        self.layer1 = nn.Linear(input_size, layers[0])\n",
        "        self.layer2 = nn.Linear(layers[0], layers[1])\n",
        "        self.layer3 = nn.Linear(layers[1], output_size)\n",
        "        self.relu = nn.ReLU()\n",
        "\n",
        "    def forward(self, X):\n",
        "        X = X.view(X.size(0), -1)\n",
        "        X = self.relu(self.layer1(X))\n",
        "        X = self.relu(self.layer2(X))\n",
        "        X = self.layer3(X)\n",
        "        return X\n"
      ],
      "metadata": {
        "id": "HL_IViUcUIv6"
      },
      "execution_count": null,
      "outputs": []
    },
    {
      "cell_type": "code",
      "execution_count": null,
      "metadata": {
        "colab": {
          "base_uri": "https://localhost:8080/"
        },
        "id": "b1GcmCiV1c75",
        "outputId": "2878897c-3876-4c46-c612-f59b828580d0"
      },
      "outputs": [
        {
          "output_type": "stream",
          "name": "stdout",
          "text": [
            "MyNeuralNetwork(\n",
            "  (layer1): Linear(in_features=784, out_features=120, bias=True)\n",
            "  (layer2): Linear(in_features=120, out_features=84, bias=True)\n",
            "  (layer3): Linear(in_features=84, out_features=10, bias=True)\n",
            "  (relu): ReLU()\n",
            ")\n"
          ]
        }
      ],
      "source": [
        "model=MyNeuralNetwork()\n",
        "print(model)"
      ]
    },
    {
      "cell_type": "code",
      "execution_count": null,
      "metadata": {
        "id": "Eqjo5Y3TUlNO"
      },
      "outputs": [],
      "source": [
        "criterion = nn.CrossEntropyLoss() #define loss function\n",
        "optimizer = torch.optim.Adam(model.parameters(), lr=0.01)"
      ]
    },
    {
      "cell_type": "code",
      "execution_count": null,
      "metadata": {
        "id": "gHxqQrpieiZc"
      },
      "outputs": [],
      "source": [
        "epochs = 5\n",
        "train_losses = []\n",
        "test_losses = []\n",
        "#lists that will be used to store the training and validation losses,\n",
        "train_correct = []\n",
        "test_correct = []\n",
        "#lists that used to store the number of correct predictions made by the model during training and validation"
      ]
    },
    {
      "cell_type": "code",
      "source": [
        "for epoch in range(epochs):\n",
        "    train_corr = 0\n",
        "    test_corr = 0\n",
        "    for batch_idx, (X_train, y_train) in enumerate(train_loader):\n",
        "        y_pred = model(X_train)\n",
        "        loss = criterion(y_pred, y_train)\n",
        "        predicted = torch.max(y_pred.data, 1)[1]\n",
        "        #returns the index of the maximum value in the predicted output of the model, which corresponds to the predicted class label.\n",
        "        batch_corr = (predicted == y_train).sum()\n",
        "        #computes the number of correct predictions made by the model in the current batch, which is assigned to batch_corr.\n",
        "        train_corr += batch_corr\n",
        "        optimizer.zero_grad()\n",
        "        loss.backward()\n",
        "        optimizer.step()\n",
        "\n",
        "        if batch_idx % 100 == 0: #prints the training progress ,the batch loss and accuracy for every 100th batch of training examples.\n",
        "          batch_loss = loss.item()\n",
        "          batch_accuracy = train_corr.item() / ((batch_idx + 1) * train_loader.batch_size)\n",
        "          #by dividing the number of correct predictions so far by the total number of examples\n",
        "          print(f\"Epoch [{epoch+1}/{epochs}], Batch [{batch_idx+1}/{len(train_loader)}], Batch Loss: {batch_loss:.4f}, Batch Accuracy: {batch_accuracy:.2%}\")\n",
        "\n",
        "\n",
        "\n",
        "    train_losses.append(loss)\n",
        "    train_correct.append(train_corr)\n",
        "\n",
        "    with torch.no_grad(): #evaluates the performance of the trained neural network\n",
        "        for batch_idx, (X_test, y_test) in enumerate(test_loader):\n",
        "            y_val = model(X_test)\n",
        "            loss = criterion(y_val, y_test)\n",
        "            predicted = torch.max(y_val.data, 1)[1]\n",
        "            test_corr += (predicted == y_test).sum()\n",
        "\n",
        "        test_losses.append(loss)\n",
        "        test_correct.append(test_corr)\n",
        "\n",
        "\n",
        "train_loss = train_losses[-1].item() #.item() returns the loss value as a Python scalar (i.e., a single number), which is assigned to train_loss and test_loss.\n",
        "train_accuracy = train_correct[-1].item() / len(train_dataset)\n",
        "test_loss = test_losses[-1].item()\n",
        "test_accuracy = test_correct[-1].item() / len(test_dataset)\n",
        "print(f\"Epoch [{epoch+1}/{epochs}], Train Loss: {train_loss:.4f}, Train Accuracy: {train_accuracy:.2%}, Test Loss: {test_loss:.4f}, Test Accuracy: {test_accuracy:.2%}\")"
      ],
      "metadata": {
        "id": "RM90DwoUUUse",
        "colab": {
          "base_uri": "https://localhost:8080/"
        },
        "outputId": "88e4d0be-293f-437e-e2b3-62ed737b64b3"
      },
      "execution_count": null,
      "outputs": [
        {
          "output_type": "stream",
          "name": "stdout",
          "text": [
            "Epoch [1/5], Batch [1/480], Batch Loss: 2.2969, Batch Accuracy: 15.00%\n",
            "Epoch [1/5], Batch [101/480], Batch Loss: 0.1867, Batch Accuracy: 84.25%\n",
            "Epoch [1/5], Batch [201/480], Batch Loss: 0.2707, Batch Accuracy: 88.45%\n",
            "Epoch [1/5], Batch [301/480], Batch Loss: 0.2374, Batch Accuracy: 90.27%\n",
            "Epoch [1/5], Batch [401/480], Batch Loss: 0.2670, Batch Accuracy: 91.23%\n",
            "Epoch [2/5], Batch [1/480], Batch Loss: 0.1179, Batch Accuracy: 97.00%\n",
            "Epoch [2/5], Batch [101/480], Batch Loss: 0.0775, Batch Accuracy: 96.21%\n",
            "Epoch [2/5], Batch [201/480], Batch Loss: 0.1374, Batch Accuracy: 95.86%\n",
            "Epoch [2/5], Batch [301/480], Batch Loss: 0.1609, Batch Accuracy: 95.83%\n",
            "Epoch [2/5], Batch [401/480], Batch Loss: 0.1592, Batch Accuracy: 95.89%\n",
            "Epoch [3/5], Batch [1/480], Batch Loss: 0.1936, Batch Accuracy: 92.00%\n",
            "Epoch [3/5], Batch [101/480], Batch Loss: 0.0894, Batch Accuracy: 96.82%\n",
            "Epoch [3/5], Batch [201/480], Batch Loss: 0.0524, Batch Accuracy: 96.88%\n",
            "Epoch [3/5], Batch [301/480], Batch Loss: 0.0654, Batch Accuracy: 96.80%\n",
            "Epoch [3/5], Batch [401/480], Batch Loss: 0.1726, Batch Accuracy: 96.70%\n",
            "Epoch [4/5], Batch [1/480], Batch Loss: 0.1960, Batch Accuracy: 96.00%\n",
            "Epoch [4/5], Batch [101/480], Batch Loss: 0.1309, Batch Accuracy: 97.00%\n",
            "Epoch [4/5], Batch [201/480], Batch Loss: 0.1192, Batch Accuracy: 96.91%\n",
            "Epoch [4/5], Batch [301/480], Batch Loss: 0.1401, Batch Accuracy: 96.98%\n",
            "Epoch [4/5], Batch [401/480], Batch Loss: 0.1517, Batch Accuracy: 97.02%\n",
            "Epoch [5/5], Batch [1/480], Batch Loss: 0.0708, Batch Accuracy: 98.00%\n",
            "Epoch [5/5], Batch [101/480], Batch Loss: 0.0160, Batch Accuracy: 97.82%\n",
            "Epoch [5/5], Batch [201/480], Batch Loss: 0.1392, Batch Accuracy: 97.71%\n",
            "Epoch [5/5], Batch [301/480], Batch Loss: 0.0752, Batch Accuracy: 97.68%\n",
            "Epoch [5/5], Batch [401/480], Batch Loss: 0.1210, Batch Accuracy: 97.57%\n",
            "Epoch [5/5], Train Loss: 0.0767, Train Accuracy: 97.52%, Test Loss: 0.1679, Test Accuracy: 96.29%\n"
          ]
        }
      ]
    },
    {
      "cell_type": "code",
      "source": [
        "x = torch.tensor([1.0, 2.0, 3.0], requires_grad=True)\n",
        "\n",
        "# detach the tensor and convert it to a numpy array\n",
        "y = x.detach().cpu().numpy()\n",
        "\n",
        "# create some sample data for the plots\n",
        "train_losses = [0.1, 0.2, 0.3, 0.4, 0.5]\n",
        "test_losses = [0.2, 0.3, 0.4, 0.5, 0.6]\n",
        "train_correct = [500, 550, 600, 650, 700]\n",
        "test_correct = [80, 85, 90, 95, 100]\n",
        "\n",
        "# plot the data\n",
        "plt.subplot(3,1,1)\n",
        "plt.plot(train_losses, label=\"training loss\")\n",
        "plt.plot(test_losses, label=\"validation loss\")\n",
        "plt.title('Loss at the end of each epoch')\n",
        "\n",
        "plt.subplot(3,1,2)\n",
        "plt.plot([t/600 for t in train_correct], label='training accuracy')\n",
        "plt.plot([t/100 for t in test_correct], label='validation accuracy')\n",
        "plt.title('Accuracy at the end of each epoch')\n",
        "\n",
        "plt.legend()\n",
        "plt.show()"
      ],
      "metadata": {
        "colab": {
          "base_uri": "https://localhost:8080/",
          "height": 322
        },
        "id": "TPC8aBIzUned",
        "outputId": "21164752-fd63-4d3f-f46d-bb27e70edaed"
      },
      "execution_count": null,
      "outputs": [
        {
          "output_type": "display_data",
          "data": {
            "text/plain": [
              "<Figure size 640x480 with 2 Axes>"
            ],
            "image/png": "[encoded data removed]"
          },
          "metadata": {}
        }
      ]
    },
    {
      "cell_type": "code",
      "source": [
        "class MyNeuralNetwork(nn.Module):\n",
        "    def __init__(self, input_size=784, output_size=10, layers=[120,84]):\n",
        "        super(MyNeuralNetwork, self).__init__()\n",
        "        self.layer1 = nn.Linear(input_size, layers[0])\n",
        "        self.layer2 = nn.Linear(layers[0], layers[1])\n",
        "        self.layer3 = nn.Linear(layers[1], output_size)\n",
        "        self.relu = nn.ReLU()\n",
        "        self.dropout = nn.Dropout(p=0.5)\n",
        "        self.norm1 = nn.LayerNorm(layers[0])\n",
        "        self.norm2 = nn.LayerNorm(layers[1])\n",
        "\n",
        "    def forward(self, X):\n",
        "        X = X.view(X.size(0), -1)\n",
        "        X = self.norm1(self.relu(self.layer1(X)))\n",
        "        X = self.dropout(X)\n",
        "        X = self.norm2(self.relu(self.layer2(X)))\n",
        "        X = self.dropout(X)\n",
        "        X = self.layer3(X)\n",
        "        return X"
      ],
      "metadata": {
        "id": "VOp723ZHVpbJ"
      },
      "execution_count": null,
      "outputs": []
    },
    {
      "cell_type": "code",
      "source": [
        "model = MyNeuralNetwork()\n",
        "print(model)"
      ],
      "metadata": {
        "colab": {
          "base_uri": "https://localhost:8080/"
        },
        "id": "M_DvyIaZVphi",
        "outputId": "e00cd799-2dbf-457b-e901-2abd50718c4f"
      },
      "execution_count": null,
      "outputs": [
        {
          "output_type": "stream",
          "name": "stdout",
          "text": [
            "MyNeuralNetwork(\n",
            "  (layer1): Linear(in_features=784, out_features=120, bias=True)\n",
            "  (layer2): Linear(in_features=120, out_features=84, bias=True)\n",
            "  (layer3): Linear(in_features=84, out_features=10, bias=True)\n",
            "  (relu): ReLU()\n",
            "  (dropout): Dropout(p=0.5, inplace=False)\n",
            "  (norm1): LayerNorm((120,), eps=1e-05, elementwise_affine=True)\n",
            "  (norm2): LayerNorm((84,), eps=1e-05, elementwise_affine=True)\n",
            ")\n"
          ]
        }
      ]
    },
    {
      "cell_type": "code",
      "source": [
        "criterion = nn.CrossEntropyLoss()\n",
        "optimizer = torch.optim.Adam(model.parameters(), lr=0.01)"
      ],
      "metadata": {
        "id": "USthhJLhWDWV"
      },
      "execution_count": null,
      "outputs": []
    },
    {
      "cell_type": "code",
      "source": [
        "epochs = 5\n",
        "train_losses = []\n",
        "test_losses = []\n",
        "train_correct = []\n",
        "test_correct = []\n",
        "for epoch in range(epochs):\n",
        "    train_corr = 0\n",
        "    test_corr = 0\n",
        "    for batch_idx, (X_train, y_train) in enumerate(train_loader):\n",
        "        y_pred = model(X_train)\n",
        "        loss = criterion(y_pred, y_train)\n",
        "        predicted = torch.max(y_pred.data, 1)[1]\n",
        "        batch_corr = (predicted == y_train).sum()\n",
        "        train_corr += batch_corr\n",
        "        optimizer.zero_grad()\n",
        "        loss.backward()\n",
        "        optimizer.step()\n",
        "\n",
        "        if batch_idx % 100 == 0:\n",
        "          batch_loss = loss.item()\n",
        "          batch_accuracy = train_corr.item() / ((batch_idx + 1) * train_loader.batch_size)\n",
        "          print(f\"Epoch [{epoch+1}/{epochs}], Batch [{batch_idx+1}/{len(train_loader)}], Batch Loss: {batch_loss:.4f}, Batch Accuracy: {batch_accuracy:.2%}\")\n",
        "\n",
        "    train_losses.append(loss)\n",
        "    train_correct.append(train_corr)\n",
        "\n",
        "    with torch.no_grad():\n",
        "        for batch_idx, (X_test, y_test) in enumerate(test_loader):\n",
        "            y_val = model(X_test)\n",
        "            loss = criterion(y_val, y_test)\n",
        "            predicted = torch.max(y_val.data, 1)[1]\n",
        "            test_corr += (predicted == y_test).sum()\n",
        "\n",
        "        test_losses.append(loss)\n",
        "        test_correct.append(test_corr)\n",
        "\n",
        "    # Print the epoch loss and accuracy\n",
        "train_loss = train_losses[-1].item()\n",
        "train_accuracy = train_correct[-1].item() / len(train_dataset)\n",
        "test_loss = test_losses[-1].item()\n",
        "test_accuracy = test_correct[-1].item() / len(test_dataset)\n",
        "print(f\"Epoch [{epoch+1}/{epochs}], Train Loss: {train_loss:.4f}, Train Accuracy: {train_accuracy:.2%}, Test Loss: {test_loss:.4f}, Test Accuracy: {test_accuracy:.2%}\")"
      ],
      "metadata": {
        "colab": {
          "base_uri": "https://localhost:8080/"
        },
        "id": "cabzLFleWNRy",
        "outputId": "5e1d0e77-e179-44ac-f8b2-b6732967657f"
      },
      "execution_count": null,
      "outputs": [
        {
          "output_type": "stream",
          "name": "stdout",
          "text": [
            "Epoch [1/5], Batch [1/480], Batch Loss: 2.6249, Batch Accuracy: 6.00%\n",
            "Epoch [1/5], Batch [101/480], Batch Loss: 0.5144, Batch Accuracy: 71.45%\n",
            "Epoch [1/5], Batch [201/480], Batch Loss: 0.5425, Batch Accuracy: 78.27%\n",
            "Epoch [1/5], Batch [301/480], Batch Loss: 0.2522, Batch Accuracy: 81.44%\n",
            "Epoch [1/5], Batch [401/480], Batch Loss: 0.4117, Batch Accuracy: 83.18%\n",
            "Epoch [2/5], Batch [1/480], Batch Loss: 0.2663, Batch Accuracy: 93.00%\n",
            "Epoch [2/5], Batch [101/480], Batch Loss: 0.5549, Batch Accuracy: 90.58%\n",
            "Epoch [2/5], Batch [201/480], Batch Loss: 0.3756, Batch Accuracy: 90.62%\n",
            "Epoch [2/5], Batch [301/480], Batch Loss: 0.3064, Batch Accuracy: 90.67%\n",
            "Epoch [2/5], Batch [401/480], Batch Loss: 0.3286, Batch Accuracy: 90.76%\n",
            "Epoch [3/5], Batch [1/480], Batch Loss: 0.3799, Batch Accuracy: 92.00%\n",
            "Epoch [3/5], Batch [101/480], Batch Loss: 0.3823, Batch Accuracy: 91.59%\n",
            "Epoch [3/5], Batch [201/480], Batch Loss: 0.3034, Batch Accuracy: 91.56%\n",
            "Epoch [3/5], Batch [301/480], Batch Loss: 0.1647, Batch Accuracy: 91.83%\n",
            "Epoch [3/5], Batch [401/480], Batch Loss: 0.3264, Batch Accuracy: 91.91%\n",
            "Epoch [4/5], Batch [1/480], Batch Loss: 0.1904, Batch Accuracy: 93.00%\n",
            "Epoch [4/5], Batch [101/480], Batch Loss: 0.1885, Batch Accuracy: 92.56%\n",
            "Epoch [4/5], Batch [201/480], Batch Loss: 0.3244, Batch Accuracy: 92.59%\n",
            "Epoch [4/5], Batch [301/480], Batch Loss: 0.2075, Batch Accuracy: 92.53%\n",
            "Epoch [4/5], Batch [401/480], Batch Loss: 0.1968, Batch Accuracy: 92.49%\n",
            "Epoch [5/5], Batch [1/480], Batch Loss: 0.1508, Batch Accuracy: 94.00%\n",
            "Epoch [5/5], Batch [101/480], Batch Loss: 0.1643, Batch Accuracy: 92.85%\n",
            "Epoch [5/5], Batch [201/480], Batch Loss: 0.0914, Batch Accuracy: 92.99%\n",
            "Epoch [5/5], Batch [301/480], Batch Loss: 0.2846, Batch Accuracy: 93.06%\n",
            "Epoch [5/5], Batch [401/480], Batch Loss: 0.3052, Batch Accuracy: 92.87%\n",
            "Epoch [5/5], Train Loss: 0.1971, Train Accuracy: 92.90%, Test Loss: 0.2237, Test Accuracy: 92.76%\n"
          ]
        }
      ]
    },
    {
      "cell_type": "code",
      "source": [
        "x = torch.tensor([1.0, 2.0, 3.0], requires_grad=True)\n",
        "\n",
        "# detach the tensor and convert it to a numpy array\n",
        "y = x.detach().cpu().numpy()\n",
        "\n",
        "# create some sample data for the plots\n",
        "train_losses = [0.1, 0.2, 0.3, 0.4, 0.5]\n",
        "test_losses = [0.2, 0.3, 0.4, 0.5, 0.6]\n",
        "train_correct = [500, 550, 600, 650, 700]\n",
        "test_correct = [80, 85, 90, 95, 100]\n",
        "\n",
        "# plot the data\n",
        "plt.subplot(3,1,1)\n",
        "plt.plot(train_losses, label=\"training loss\")\n",
        "plt.plot(test_losses, label=\"validation loss\")\n",
        "plt.title('Loss at the end of each epoch')\n",
        "\n",
        "plt.subplot(3,1,2)\n",
        "plt.plot([t/600 for t in train_correct], label='training accuracy')\n",
        "plt.plot([t/100 for t in test_correct], label='validation accuracy')\n",
        "plt.title('Accuracy at the end of each epoch')\n",
        "\n",
        "plt.legend()\n",
        "plt.show()"
      ],
      "metadata": {
        "colab": {
          "base_uri": "https://localhost:8080/",
          "height": 322
        },
        "id": "lmzBJRV0sye9",
        "outputId": "02365e61-9e47-429c-f0c9-5f22fab305e1"
      },
      "execution_count": null,
      "outputs": [
        {
          "output_type": "display_data",
          "data": {
            "text/plain": [
              "<Figure size 640x480 with 2 Axes>"
            ],
            "image/png": "[encoded data removed]"
          },
          "metadata": {}
        }
      ]
    }
  ],
  "metadata": {
    "colab": {
      "provenance": []
    },
    "kernelspec": {
      "display_name": "Python 3",
      "name": "python3"
    },
    "language_info": {
      "name": "python"
    }
  },
  "nbformat": 4,
  "nbformat_minor": 0
}